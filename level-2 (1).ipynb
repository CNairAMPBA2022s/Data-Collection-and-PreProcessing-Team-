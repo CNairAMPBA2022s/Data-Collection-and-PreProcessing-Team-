{
 "cells": [
  {
   "cell_type": "code",
   "execution_count": 1,
   "metadata": {},
   "outputs": [],
   "source": [
    "import pandas as pd\n",
    "import requests\n",
    "from bs4 import BeautifulSoup as bs"
   ]
  },
  {
   "cell_type": "code",
   "execution_count": 2,
   "metadata": {},
   "outputs": [],
   "source": [
    "allrecp=pd.read_csv(\"recipes_links.csv\",index_col=0)"
   ]
  },
  {
   "cell_type": "code",
   "execution_count": 3,
   "metadata": {},
   "outputs": [],
   "source": [
    "allrecp.columns=[\"recp_link\"]"
   ]
  },
  {
   "cell_type": "code",
   "execution_count": 4,
   "metadata": {},
   "outputs": [],
   "source": [
    "recplst=list(allrecp['recp_link'])"
   ]
  },
  {
   "cell_type": "code",
   "execution_count": 5,
   "metadata": {},
   "outputs": [
    {
     "data": {
      "text/plain": [
       "'https://www.vegrecipesofindia.com/basundi-recipe-quick-basundi-recipe/'"
      ]
     },
     "execution_count": 5,
     "metadata": {},
     "output_type": "execute_result"
    }
   ],
   "source": [
    "recplst[0]"
   ]
  },
  {
   "cell_type": "code",
   "execution_count": 6,
   "metadata": {},
   "outputs": [],
   "source": [
    "url=recplst[0]\n",
    "response = requests.get(url)\n",
    "soup = bs(response.content, 'html.parser') \n",
    "# rev_div = soup.findAll(\"div\",attrs={\"class\",\"block-post-listing__inner\"}) \n",
    "# links=re. findall(\"href=[\\\"https\\'](.*?)[\\\"\\']\", str(rev_div[0]))"
   ]
  },
  {
   "cell_type": "code",
   "execution_count": 7,
   "metadata": {},
   "outputs": [
    {
     "data": {
      "text/plain": [
       "'Basundi Recipe'"
      ]
     },
     "execution_count": 7,
     "metadata": {},
     "output_type": "execute_result"
    }
   ],
   "source": [
    "soup.h1.string # recipe name"
   ]
  },
  {
   "cell_type": "code",
   "execution_count": 8,
   "metadata": {},
   "outputs": [
    {
     "data": {
      "text/plain": [
       "'Dassana Amit'"
      ]
     },
     "execution_count": 8,
     "metadata": {},
     "output_type": "execute_result"
    }
   ],
   "source": [
    "auth=soup.find(\"p\",attrs={\"class\",\"entry-author\"})\n",
    "auth.findAll(\"a\")[1].text #Author Name"
   ]
  },
  {
   "cell_type": "code",
   "execution_count": 9,
   "metadata": {
    "scrolled": true
   },
   "outputs": [
    {
     "data": {
      "text/plain": [
       "'Basundi is a thickened, sweetened milk flavored with cardamoms, spices and nuts. This basundi recipe is a quicker version made with sweetened condensed milk and comes together under 25 minutes.'"
      ]
     },
     "execution_count": 9,
     "metadata": {},
     "output_type": "execute_result"
    }
   ],
   "source": [
    "soup.find(\"div\",attrs={\"class\",\"wprm-recipe-summary wprm-block-text-normal\"}).text # recipe_description"
   ]
  },
  {
   "cell_type": "code",
   "execution_count": 10,
   "metadata": {},
   "outputs": [
    {
     "data": {
      "text/plain": [
       "'4.79'"
      ]
     },
     "execution_count": 10,
     "metadata": {},
     "output_type": "execute_result"
    }
   ],
   "source": [
    "soup.find(\"div\",attrs={\"class\",\"wprm-recipe-rating wprm-user-rating wprm-recipe-rating-inline wprm-user-rating-allowed\"})['data-average'] # recipe_rating"
   ]
  },
  {
   "cell_type": "code",
   "execution_count": 11,
   "metadata": {},
   "outputs": [
    {
     "data": {
      "text/plain": [
       "'28'"
      ]
     },
     "execution_count": 11,
     "metadata": {},
     "output_type": "execute_result"
    }
   ],
   "source": [
    "soup.find(\"div\",attrs={\"class\",\"wprm-recipe-rating wprm-user-rating wprm-recipe-rating-inline wprm-user-rating-allowed\"})['data-count'] # recipe_rating"
   ]
  },
  {
   "cell_type": "code",
   "execution_count": 12,
   "metadata": {},
   "outputs": [
    {
     "data": {
      "text/plain": [
       "'5'"
      ]
     },
     "execution_count": 12,
     "metadata": {},
     "output_type": "execute_result"
    }
   ],
   "source": [
    "soup.find(\"span\",attrs={\"class\",\"wprm-recipe-details wprm-recipe-details-minutes wprm-recipe-prep_time wprm-recipe-prep_time-minutes\"}).text # recipe_rating"
   ]
  },
  {
   "cell_type": "code",
   "execution_count": 13,
   "metadata": {},
   "outputs": [
    {
     "data": {
      "text/plain": [
       "'mins'"
      ]
     },
     "execution_count": 13,
     "metadata": {},
     "output_type": "execute_result"
    }
   ],
   "source": [
    "soup.find(\"span\",attrs={\"class\",\"wprm-recipe-details-unit wprm-recipe-details-minutes wprm-recipe-prep_time-unit wprm-recipe-prep_timeunit-minutes\"}).text # recipe_rating"
   ]
  },
  {
   "cell_type": "code",
   "execution_count": 14,
   "metadata": {},
   "outputs": [
    {
     "data": {
      "text/plain": [
       "'20'"
      ]
     },
     "execution_count": 14,
     "metadata": {},
     "output_type": "execute_result"
    }
   ],
   "source": [
    "soup.find(\"span\",attrs={\"class\",\"wprm-recipe-details wprm-recipe-details-minutes wprm-recipe-cook_time wprm-recipe-cook_time-minutes\"}).text # CookTime"
   ]
  },
  {
   "cell_type": "code",
   "execution_count": 15,
   "metadata": {},
   "outputs": [
    {
     "data": {
      "text/plain": [
       "'mins'"
      ]
     },
     "execution_count": 15,
     "metadata": {},
     "output_type": "execute_result"
    }
   ],
   "source": [
    "soup.find(\"span\",attrs={\"class\",\"wprm-recipe-details-unit wprm-recipe-details-minutes wprm-recipe-cook_time-unit wprm-recipe-cook_timeunit-minutes\"}).text # recipe_rating"
   ]
  },
  {
   "cell_type": "code",
   "execution_count": 16,
   "metadata": {},
   "outputs": [
    {
     "data": {
      "text/plain": [
       "'50'"
      ]
     },
     "execution_count": 16,
     "metadata": {},
     "output_type": "execute_result"
    }
   ],
   "source": [
    "#TotalTime\n",
    "soup.find(\"span\",attrs={\"class\",\"wprm-recipe-details wprm-recipe-details-minutes wprm-recipe-total_time wprm-recipe-total_time-minutes\"}).text "
   ]
  },
  {
   "cell_type": "code",
   "execution_count": 17,
   "metadata": {},
   "outputs": [
    {
     "data": {
      "text/plain": [
       "'mins'"
      ]
     },
     "execution_count": 17,
     "metadata": {},
     "output_type": "execute_result"
    }
   ],
   "source": [
    "soup.find(\"span\",attrs={\"class\",\"wprm-recipe-details-unit wprm-recipe-details-minutes wprm-recipe-total_time-unit wprm-recipe-total_timeunit-minutes\"}).text"
   ]
  },
  {
   "cell_type": "code",
   "execution_count": 18,
   "metadata": {},
   "outputs": [],
   "source": [
    "#Cuisine "
   ]
  },
  {
   "cell_type": "code",
   "execution_count": 19,
   "metadata": {},
   "outputs": [
    {
     "data": {
      "text/plain": [
       "'Indian'"
      ]
     },
     "execution_count": 19,
     "metadata": {},
     "output_type": "execute_result"
    }
   ],
   "source": [
    "soup.find(\"span\",attrs={\"class\",\"wprm-recipe-cuisine wprm-block-text-bold\"}).text"
   ]
  },
  {
   "cell_type": "code",
   "execution_count": 20,
   "metadata": {},
   "outputs": [],
   "source": [
    "#Course "
   ]
  },
  {
   "cell_type": "code",
   "execution_count": 21,
   "metadata": {},
   "outputs": [
    {
     "data": {
      "text/plain": [
       "'Sweets'"
      ]
     },
     "execution_count": 21,
     "metadata": {},
     "output_type": "execute_result"
    }
   ],
   "source": [
    "soup.find(\"span\",attrs={\"class\",\"wprm-recipe-course wprm-block-text-bold\"}).text"
   ]
  },
  {
   "cell_type": "code",
   "execution_count": 22,
   "metadata": {},
   "outputs": [],
   "source": [
    "#Diet"
   ]
  },
  {
   "cell_type": "code",
   "execution_count": 23,
   "metadata": {},
   "outputs": [
    {
     "data": {
      "text/plain": [
       "'Gluten Free, Vegetarian'"
      ]
     },
     "execution_count": 23,
     "metadata": {},
     "output_type": "execute_result"
    }
   ],
   "source": [
    "soup.find(\"span\",attrs={\"class\",\"wprm-recipe-suitablefordiet wprm-block-text-bold\"}).text"
   ]
  },
  {
   "cell_type": "code",
   "execution_count": 24,
   "metadata": {},
   "outputs": [],
   "source": [
    "#DifficultyLevel"
   ]
  },
  {
   "cell_type": "code",
   "execution_count": 25,
   "metadata": {},
   "outputs": [
    {
     "data": {
      "text/plain": [
       "'Easy'"
      ]
     },
     "execution_count": 25,
     "metadata": {},
     "output_type": "execute_result"
    }
   ],
   "source": [
    "soup.find(\"span\",attrs={\"class\",\"wprm-recipe-difficulty wprm-block-text-bold\"}).text"
   ]
  },
  {
   "cell_type": "code",
   "execution_count": 26,
   "metadata": {},
   "outputs": [
    {
     "ename": "AttributeError",
     "evalue": "'NoneType' object has no attribute 'text'",
     "output_type": "error",
     "traceback": [
      "\u001b[1;31m---------------------------------------------------------------------------\u001b[0m",
      "\u001b[1;31mAttributeError\u001b[0m                            Traceback (most recent call last)",
      "\u001b[1;32m<ipython-input-26-b970a6262637>\u001b[0m in \u001b[0;36m<module>\u001b[1;34m\u001b[0m\n\u001b[0;32m      1\u001b[0m \u001b[1;31m#servings\u001b[0m\u001b[1;33m\u001b[0m\u001b[1;33m\u001b[0m\u001b[1;33m\u001b[0m\u001b[0m\n\u001b[1;32m----> 2\u001b[1;33m \u001b[0msoup\u001b[0m\u001b[1;33m.\u001b[0m\u001b[0mfind\u001b[0m\u001b[1;33m(\u001b[0m\u001b[1;34m\"span\"\u001b[0m\u001b[1;33m,\u001b[0m\u001b[0mattrs\u001b[0m\u001b[1;33m=\u001b[0m\u001b[1;33m{\u001b[0m\u001b[1;34m\"class\"\u001b[0m\u001b[1;33m,\u001b[0m\u001b[1;34m\"wprm-recipe-servings-with-unit\"\u001b[0m\u001b[1;33m}\u001b[0m\u001b[1;33m)\u001b[0m\u001b[1;33m.\u001b[0m\u001b[0mtext\u001b[0m \u001b[1;31m#amount\u001b[0m\u001b[1;33m\u001b[0m\u001b[1;33m\u001b[0m\u001b[0m\n\u001b[0m",
      "\u001b[1;31mAttributeError\u001b[0m: 'NoneType' object has no attribute 'text'"
     ]
    }
   ],
   "source": [
    "#servings\n",
    "soup.find(\"span\",attrs={\"class\",\"wprm-recipe-servings-with-unit\"}).text #amount"
   ]
  },
  {
   "cell_type": "code",
   "execution_count": null,
   "metadata": {},
   "outputs": [],
   "source": [
    "#ingredients\n",
    "# ind=soup.findAll(\"div\",attrs={\"class\",\"wprm-recipe-ingredient-group\"})\n",
    "# ingredients=[]\n",
    "# for item in ind:\n",
    "#     ingredients.append(item.text.replace('▢',','))\n",
    "# ingredients[0]"
   ]
  },
  {
   "cell_type": "code",
   "execution_count": 27,
   "metadata": {},
   "outputs": [
    {
     "data": {
      "text/plain": [
       "'Main Ingredients'"
      ]
     },
     "execution_count": 27,
     "metadata": {},
     "output_type": "execute_result"
    }
   ],
   "source": [
    "ind=soup.find(\"div\",attrs={\"class\",\"wprm-recipe-ingredient-group\"})\n",
    "ind.h4.text"
   ]
  },
  {
   "cell_type": "code",
   "execution_count": 28,
   "metadata": {},
   "outputs": [
    {
     "data": {
      "text/plain": [
       "[{'Main ingredients': []},\n",
       " {'Main ingredients': [' ½  can sweetened condensed milk – 200 grams or ½ cup + 2 tablespoons',\n",
       "   ' 2 cups whole milk',\n",
       "   ' ½  teaspoon cardamom powder or 4 to 5 green cardamoms, powdered in a mortar-pestle',\n",
       "   ' 6 cashews – slivered or chopped',\n",
       "   ' 10 pistachios – slivered or chopped, unsalted',\n",
       "   ' 8 almonds – slivered or chopped',\n",
       "   ' 10 to 12 saffron strands',\n",
       "   ' 2 to 3 pinches grated nutmeg or nutmeg powder',\n",
       "   ' 2 tablespoons  chironji (charoli seeds)']}]"
      ]
     },
     "execution_count": 28,
     "metadata": {},
     "output_type": "execute_result"
    }
   ],
   "source": [
    "#ingredients\n",
    "ind=soup.find(\"div\",attrs={\"class\",\"wprm-recipe-ingredient-group\"})\n",
    "ingredients=[]\n",
    "for item in ind:\n",
    "    try:\n",
    "        ingds=item.h4.text.replace('▢',',')\n",
    "    except:\n",
    "        ingds='Main ingredients'\n",
    "    ingds1=item.text.split('▢')[1:]\n",
    "    ingredients.append({ingds:ingds1})\n",
    "ingredients"
   ]
  },
  {
   "cell_type": "code",
   "execution_count": 29,
   "metadata": {},
   "outputs": [
    {
     "data": {
      "text/plain": [
       "[' ½  can sweetened condensed milk – 200 grams or ½ cup + 2 tablespoons',\n",
       " ' 2 cups whole milk',\n",
       " ' ½  teaspoon cardamom powder or 4 to 5 green cardamoms, powdered in a mortar-pestle',\n",
       " ' 6 cashews – slivered or chopped',\n",
       " ' 10 pistachios – slivered or chopped, unsalted',\n",
       " ' 8 almonds – slivered or chopped',\n",
       " ' 10 to 12 saffron strands',\n",
       " ' 2 to 3 pinches grated nutmeg or nutmeg powder',\n",
       " ' 2 tablespoons  chironji (charoli seeds)']"
      ]
     },
     "execution_count": 29,
     "metadata": {},
     "output_type": "execute_result"
    }
   ],
   "source": [
    "ingredients[1]['Main ingredients']"
   ]
  },
  {
   "cell_type": "code",
   "execution_count": 30,
   "metadata": {},
   "outputs": [
    {
     "data": {
      "text/plain": [
       "[{'Preparation': ['Add whole milk and condensed milk in a thick bottomed saucepan or kadai. Stir and mix with a wired whisk so that the condensed milk is mixed evenly with milk. If you do not prefer a sweeter basundi add ¼ cup milk or more according to your preferences. Keep in mind the mixture thickens while cooking, so add the milk accordingly.Place the pan on stovetop. Keep heat to a low. Bring this mixture to a gentle boil. Keep on stirring at intervals so that the liquids do not get browned or burn from bottom.Cook on low heat and simmer for 20 to 25 minutes. Stir after intervals of 3 to 4 minutes.\\xa0Gradually the basundi mixture would begin to thicken.Scrape the milk solids from the sides and the cream collected on the top and add it back to the basundi mixture.Add grated nutmeg or nutmeg powder, slivered nuts, cardamom powder and saffron strands.Mix and stir to combine. Continue to simmer for 1 to 2 minutes more.Pour in serving bowls. Serve basundi hot or warm or cold. While serving garnish with some slivered nuts like almonds or pistachios.\\xa0You can serve as is or with poori.']}]"
      ]
     },
     "execution_count": 30,
     "metadata": {},
     "output_type": "execute_result"
    }
   ],
   "source": [
    "#instructions\n",
    "ins=soup.findAll(\"div\",attrs={\"class\",\"wprm-recipe-instruction-group\"})\n",
    "inslst=[]\n",
    "for item in ins:\n",
    "    try:\n",
    "        ins1=item.h4.text\n",
    "    except:\n",
    "        ins1='Preparation'\n",
    "    ins2=item.text\n",
    "    inslst.append({ins1:[ins2]})\n",
    "inslst"
   ]
  },
  {
   "cell_type": "code",
   "execution_count": 31,
   "metadata": {},
   "outputs": [],
   "source": [
    "ins=soup.findAll(\"div\",attrs={\"class\",\"wprm-recipe-instruction-group\"})"
   ]
  },
  {
   "cell_type": "code",
   "execution_count": 32,
   "metadata": {},
   "outputs": [
    {
     "ename": "AttributeError",
     "evalue": "'NoneType' object has no attribute 'text'",
     "output_type": "error",
     "traceback": [
      "\u001b[1;31m---------------------------------------------------------------------------\u001b[0m",
      "\u001b[1;31mAttributeError\u001b[0m                            Traceback (most recent call last)",
      "\u001b[1;32m<ipython-input-32-ef7c91668032>\u001b[0m in \u001b[0;36m<module>\u001b[1;34m\u001b[0m\n\u001b[1;32m----> 1\u001b[1;33m \u001b[0mins\u001b[0m\u001b[1;33m[\u001b[0m\u001b[1;36m0\u001b[0m\u001b[1;33m]\u001b[0m\u001b[1;33m.\u001b[0m\u001b[0mh4\u001b[0m\u001b[1;33m.\u001b[0m\u001b[0mtext\u001b[0m\u001b[1;33m\u001b[0m\u001b[1;33m\u001b[0m\u001b[0m\n\u001b[0m",
      "\u001b[1;31mAttributeError\u001b[0m: 'NoneType' object has no attribute 'text'"
     ]
    }
   ],
   "source": [
    "ins[0].h4.text"
   ]
  },
  {
   "cell_type": "code",
   "execution_count": 33,
   "metadata": {},
   "outputs": [
    {
     "data": {
      "text/plain": [
       "'Add whole milk and condensed milk in a thick bottomed saucepan or kadai. Stir and mix with a wired whisk so that the condensed milk is mixed evenly with milk. If you do not prefer a sweeter basundi add ¼ cup milk or more according to your preferences. Keep in mind the mixture thickens while cooking, so add the milk accordingly.Place the pan on stovetop. Keep heat to a low. Bring this mixture to a gentle boil. Keep on stirring at intervals so that the liquids do not get browned or burn from bottom.Cook on low heat and simmer for 20 to 25 minutes. Stir after intervals of 3 to 4 minutes.\\xa0Gradually the basundi mixture would begin to thicken.Scrape the milk solids from the sides and the cream collected on the top and add it back to the basundi mixture.Add grated nutmeg or nutmeg powder, slivered nuts, cardamom powder and saffron strands.Mix and stir to combine. Continue to simmer for 1 to 2 minutes more.Pour in serving bowls. Serve basundi hot or warm or cold. While serving garnish with some slivered nuts like almonds or pistachios.\\xa0You can serve as is or with poori.'"
      ]
     },
     "execution_count": 33,
     "metadata": {},
     "output_type": "execute_result"
    }
   ],
   "source": [
    "ins[0].text"
   ]
  },
  {
   "cell_type": "code",
   "execution_count": null,
   "metadata": {},
   "outputs": [],
   "source": []
  },
  {
   "cell_type": "code",
   "execution_count": null,
   "metadata": {},
   "outputs": [],
   "source": []
  }
 ],
 "metadata": {
  "kernelspec": {
   "display_name": "Python 3",
   "language": "python",
   "name": "python3"
  },
  "language_info": {
   "codemirror_mode": {
    "name": "ipython",
    "version": 3
   },
   "file_extension": ".py",
   "mimetype": "text/x-python",
   "name": "python",
   "nbconvert_exporter": "python",
   "pygments_lexer": "ipython3",
   "version": "3.8.5"
  }
 },
 "nbformat": 4,
 "nbformat_minor": 4
}
